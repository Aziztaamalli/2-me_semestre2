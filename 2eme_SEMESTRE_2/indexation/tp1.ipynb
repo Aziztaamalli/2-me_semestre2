{
 "cells": [
  {
   "cell_type": "code",
   "execution_count": 11,
   "id": "58018690",
   "metadata": {},
   "outputs": [
    {
     "name": "stdout",
     "output_type": "stream",
     "text": [
      "Collecting nltk\n",
      "  Using cached nltk-3.8.1-py3-none-any.whl (1.5 MB)\n",
      "Collecting click (from nltk)\n",
      "  Using cached click-8.1.7-py3-none-any.whl.metadata (3.0 kB)\n",
      "Collecting joblib (from nltk)\n",
      "  Using cached joblib-1.3.2-py3-none-any.whl.metadata (5.4 kB)\n",
      "Collecting regex>=2021.8.3 (from nltk)\n",
      "  Downloading regex-2023.12.25-cp39-cp39-win_amd64.whl.metadata (41 kB)\n",
      "     ---------------------------------------- 0.0/42.0 kB ? eta -:--:--\n",
      "     ---------------------------------------- 0.0/42.0 kB ? eta -:--:--\n",
      "     ---------------------------------------- 0.0/42.0 kB ? eta -:--:--\n",
      "     ---------------------------------------- 0.0/42.0 kB ? eta -:--:--\n",
      "     ---------------------------------------- 0.0/42.0 kB ? eta -:--:--\n",
      "     ---------------------------------------- 0.0/42.0 kB ? eta -:--:--\n",
      "     ---------------------------------------- 0.0/42.0 kB ? eta -:--:--\n",
      "     ---------------------------------------- 0.0/42.0 kB ? eta -:--:--\n",
      "     ---------------------------------------- 0.0/42.0 kB ? eta -:--:--\n",
      "     --------- ------------------------------ 10.2/42.0 kB ? eta -:--:--\n",
      "     --------- ------------------------------ 10.2/42.0 kB ? eta -:--:--\n",
      "     ------------------ ------------------- 20.5/42.0 kB 131.3 kB/s eta 0:00:01\n",
      "     ------------------ ------------------- 20.5/42.0 kB 131.3 kB/s eta 0:00:01\n",
      "     ------------------ ------------------- 20.5/42.0 kB 131.3 kB/s eta 0:00:01\n",
      "     --------------------------- ---------- 30.7/42.0 kB 119.1 kB/s eta 0:00:01\n",
      "     -------------------------------------- 42.0/42.0 kB 135.6 kB/s eta 0:00:00\n",
      "Collecting tqdm (from nltk)\n",
      "  Downloading tqdm-4.66.2-py3-none-any.whl.metadata (57 kB)\n",
      "     ---------------------------------------- 0.0/57.6 kB ? eta -:--:--\n",
      "     ---------------------------------------- 0.0/57.6 kB ? eta -:--:--\n",
      "     -------------------- ----------------- 30.7/57.6 kB 660.6 kB/s eta 0:00:01\n",
      "     -------------------- ----------------- 30.7/57.6 kB 660.6 kB/s eta 0:00:01\n",
      "     -------------------- ----------------- 30.7/57.6 kB 660.6 kB/s eta 0:00:01\n",
      "     -------------------- ----------------- 30.7/57.6 kB 660.6 kB/s eta 0:00:01\n",
      "     -------------------- ----------------- 30.7/57.6 kB 660.6 kB/s eta 0:00:01\n",
      "     -------------------- ----------------- 30.7/57.6 kB 660.6 kB/s eta 0:00:01\n",
      "     -------------------- ----------------- 30.7/57.6 kB 660.6 kB/s eta 0:00:01\n",
      "     -------------------------------------- 57.6/57.6 kB 131.9 kB/s eta 0:00:00\n",
      "Requirement already satisfied: colorama in c:\\users\\user\\anaconda3\\envs\\myenv\\lib\\site-packages (from click->nltk) (0.4.6)\n",
      "Downloading regex-2023.12.25-cp39-cp39-win_amd64.whl (269 kB)\n",
      "   ---------------------------------------- 0.0/269.5 kB ? eta -:--:--\n",
      "   ---------------------------------------- 0.0/269.5 kB ? eta -:--:--\n",
      "   ---------------------------------------- 0.0/269.5 kB ? eta -:--:--\n",
      "   ---------------------------------------- 0.0/269.5 kB ? eta -:--:--\n",
      "   ---------------------------------------- 0.0/269.5 kB ? eta -:--:--\n",
      "   - -------------------------------------- 10.2/269.5 kB ? eta -:--:--\n",
      "   - -------------------------------------- 10.2/269.5 kB ? eta -:--:--\n",
      "   - -------------------------------------- 10.2/269.5 kB ? eta -:--:--\n",
      "   ---- ---------------------------------- 30.7/269.5 kB 145.2 kB/s eta 0:00:02\n",
      "   ---- ---------------------------------- 30.7/269.5 kB 145.2 kB/s eta 0:00:02\n",
      "   ---- ---------------------------------- 30.7/269.5 kB 145.2 kB/s eta 0:00:02\n",
      "   ----- --------------------------------- 41.0/269.5 kB 122.9 kB/s eta 0:00:02\n",
      "   -------- ------------------------------ 61.4/269.5 kB 163.6 kB/s eta 0:00:02\n",
      "   ----------- --------------------------- 81.9/269.5 kB 199.1 kB/s eta 0:00:01\n",
      "   ------------- ------------------------- 92.2/269.5 kB 194.1 kB/s eta 0:00:01\n",
      "   --------------- ---------------------- 112.6/269.5 kB 218.3 kB/s eta 0:00:01\n",
      "   --------------- ---------------------- 112.6/269.5 kB 218.3 kB/s eta 0:00:01\n",
      "   ----------------- -------------------- 122.9/269.5 kB 211.7 kB/s eta 0:00:01\n",
      "   -------------------- ----------------- 143.4/269.5 kB 229.9 kB/s eta 0:00:01\n",
      "   ----------------------- -------------- 163.8/269.5 kB 239.6 kB/s eta 0:00:01\n",
      "   ----------------------- -------------- 163.8/269.5 kB 239.6 kB/s eta 0:00:01\n",
      "   --------------------------- ---------- 194.6/269.5 kB 261.8 kB/s eta 0:00:01\n",
      "   ---------------------------- --------- 204.8/269.5 kB 254.0 kB/s eta 0:00:01\n",
      "   ------------------------------- ------ 225.3/269.5 kB 269.8 kB/s eta 0:00:01\n",
      "   ---------------------------------- --- 245.8/269.5 kB 289.7 kB/s eta 0:00:01\n",
      "   -------------------------------------- 269.5/269.5 kB 296.3 kB/s eta 0:00:00\n",
      "Using cached click-8.1.7-py3-none-any.whl (97 kB)\n",
      "Using cached joblib-1.3.2-py3-none-any.whl (302 kB)\n",
      "Downloading tqdm-4.66.2-py3-none-any.whl (78 kB)\n",
      "   ---------------------------------------- 0.0/78.3 kB ? eta -:--:--\n",
      "   ----- ---------------------------------- 10.2/78.3 kB ? eta -:--:--\n",
      "   -------------------- ------------------- 41.0/78.3 kB 495.5 kB/s eta 0:00:01\n",
      "   ------------------------------------ --- 71.7/78.3 kB 563.7 kB/s eta 0:00:01\n",
      "   ---------------------------------------- 78.3/78.3 kB 544.4 kB/s eta 0:00:00\n",
      "Installing collected packages: tqdm, regex, joblib, click, nltk\n",
      "Successfully installed click-8.1.7 joblib-1.3.2 nltk-3.8.1 regex-2023.12.25 tqdm-4.66.2\n"
     ]
    }
   ],
   "source": [
    "! pip install nltk"
   ]
  },
  {
   "cell_type": "code",
   "execution_count": 12,
   "id": "e483fc7e-9631-4b75-a7cd-65eff5b4eb19",
   "metadata": {
    "tags": []
   },
   "outputs": [
    {
     "name": "stdout",
     "output_type": "stream",
     "text": [
      "showing info https://raw.githubusercontent.com/nltk/nltk_data/gh-pages/index.xml\n"
     ]
    },
    {
     "ename": "KeyboardInterrupt",
     "evalue": "",
     "output_type": "error",
     "traceback": [
      "\u001b[1;31m---------------------------------------------------------------------------\u001b[0m",
      "\u001b[1;31mKeyboardInterrupt\u001b[0m                         Traceback (most recent call last)",
      "Cell \u001b[1;32mIn[12], line 2\u001b[0m\n\u001b[0;32m      1\u001b[0m \u001b[38;5;28;01mimport\u001b[39;00m \u001b[38;5;21;01mnltk\u001b[39;00m\n\u001b[1;32m----> 2\u001b[0m \u001b[43mnltk\u001b[49m\u001b[38;5;241;43m.\u001b[39;49m\u001b[43mdownload\u001b[49m\u001b[43m(\u001b[49m\u001b[43m)\u001b[49m\n",
      "File \u001b[1;32mc:\\Users\\user\\anaconda3\\envs\\myenv\\lib\\site-packages\\nltk\\downloader.py:763\u001b[0m, in \u001b[0;36mDownloader.download\u001b[1;34m(self, info_or_id, download_dir, quiet, force, prefix, halt_on_error, raise_on_error, print_error_to)\u001b[0m\n\u001b[0;32m    761\u001b[0m     \u001b[38;5;28;01mif\u001b[39;00m download_dir \u001b[38;5;129;01mis\u001b[39;00m \u001b[38;5;129;01mnot\u001b[39;00m \u001b[38;5;28;01mNone\u001b[39;00m:\n\u001b[0;32m    762\u001b[0m         \u001b[38;5;28mself\u001b[39m\u001b[38;5;241m.\u001b[39m_download_dir \u001b[38;5;241m=\u001b[39m download_dir\n\u001b[1;32m--> 763\u001b[0m     \u001b[38;5;28;43mself\u001b[39;49m\u001b[38;5;241;43m.\u001b[39;49m\u001b[43m_interactive_download\u001b[49m\u001b[43m(\u001b[49m\u001b[43m)\u001b[49m\n\u001b[0;32m    764\u001b[0m     \u001b[38;5;28;01mreturn\u001b[39;00m \u001b[38;5;28;01mTrue\u001b[39;00m\n\u001b[0;32m    766\u001b[0m \u001b[38;5;28;01melse\u001b[39;00m:\n\u001b[0;32m    767\u001b[0m     \u001b[38;5;66;03m# Define a helper function for displaying output:\u001b[39;00m\n",
      "File \u001b[1;32mc:\\Users\\user\\anaconda3\\envs\\myenv\\lib\\site-packages\\nltk\\downloader.py:1113\u001b[0m, in \u001b[0;36mDownloader._interactive_download\u001b[1;34m(self)\u001b[0m\n\u001b[0;32m   1111\u001b[0m \u001b[38;5;28;01mif\u001b[39;00m TKINTER:\n\u001b[0;32m   1112\u001b[0m     \u001b[38;5;28;01mtry\u001b[39;00m:\n\u001b[1;32m-> 1113\u001b[0m         \u001b[43mDownloaderGUI\u001b[49m\u001b[43m(\u001b[49m\u001b[38;5;28;43mself\u001b[39;49m\u001b[43m)\u001b[49m\u001b[38;5;241;43m.\u001b[39;49m\u001b[43mmainloop\u001b[49m\u001b[43m(\u001b[49m\u001b[43m)\u001b[49m\n\u001b[0;32m   1114\u001b[0m     \u001b[38;5;28;01mexcept\u001b[39;00m TclError:\n\u001b[0;32m   1115\u001b[0m         DownloaderShell(\u001b[38;5;28mself\u001b[39m)\u001b[38;5;241m.\u001b[39mrun()\n",
      "File \u001b[1;32mc:\\Users\\user\\anaconda3\\envs\\myenv\\lib\\site-packages\\nltk\\downloader.py:1936\u001b[0m, in \u001b[0;36mDownloaderGUI.mainloop\u001b[1;34m(self, *args, **kwargs)\u001b[0m\n\u001b[0;32m   1935\u001b[0m \u001b[38;5;28;01mdef\u001b[39;00m \u001b[38;5;21mmainloop\u001b[39m(\u001b[38;5;28mself\u001b[39m, \u001b[38;5;241m*\u001b[39margs, \u001b[38;5;241m*\u001b[39m\u001b[38;5;241m*\u001b[39mkwargs):\n\u001b[1;32m-> 1936\u001b[0m     \u001b[38;5;28mself\u001b[39m\u001b[38;5;241m.\u001b[39mtop\u001b[38;5;241m.\u001b[39mmainloop(\u001b[38;5;241m*\u001b[39margs, \u001b[38;5;241m*\u001b[39m\u001b[38;5;241m*\u001b[39mkwargs)\n",
      "File \u001b[1;32mc:\\Users\\user\\anaconda3\\envs\\myenv\\lib\\tkinter\\__init__.py:1429\u001b[0m, in \u001b[0;36mMisc.mainloop\u001b[1;34m(self, n)\u001b[0m\n\u001b[0;32m   1427\u001b[0m \u001b[38;5;28;01mdef\u001b[39;00m \u001b[38;5;21mmainloop\u001b[39m(\u001b[38;5;28mself\u001b[39m, n\u001b[38;5;241m=\u001b[39m\u001b[38;5;241m0\u001b[39m):\n\u001b[0;32m   1428\u001b[0m \u001b[38;5;250m    \u001b[39m\u001b[38;5;124;03m\"\"\"Call the mainloop of Tk.\"\"\"\u001b[39;00m\n\u001b[1;32m-> 1429\u001b[0m     \u001b[38;5;28;43mself\u001b[39;49m\u001b[38;5;241;43m.\u001b[39;49m\u001b[43mtk\u001b[49m\u001b[38;5;241;43m.\u001b[39;49m\u001b[43mmainloop\u001b[49m\u001b[43m(\u001b[49m\u001b[43mn\u001b[49m\u001b[43m)\u001b[49m\n",
      "\u001b[1;31mKeyboardInterrupt\u001b[0m: "
     ]
    }
   ],
   "source": [
    "import nltk\n",
    "nltk.download()\n"
   ]
  },
  {
   "cell_type": "code",
   "execution_count": 1,
   "id": "d5d11d98-5133-4250-be69-c41478126cd5",
   "metadata": {
    "tags": []
   },
   "outputs": [
    {
     "data": {
      "text/plain": [
       "['This', 'is', 'a', 'test', 'for', 'text-based', 'search']"
      ]
     },
     "execution_count": 1,
     "metadata": {},
     "output_type": "execute_result"
    }
   ],
   "source": [
    "\"This is a test for text-based search\".split()"
   ]
  },
  {
   "cell_type": "code",
   "execution_count": 2,
   "id": "5e610301-be42-4f58-88af-326c00fba972",
   "metadata": {
    "tags": []
   },
   "outputs": [],
   "source": [
    "import re"
   ]
  },
  {
   "cell_type": "code",
   "execution_count": 5,
   "id": "0a201027-0314-45ca-a6ea-661e09226a15",
   "metadata": {
    "tags": []
   },
   "outputs": [
    {
     "data": {
      "text/plain": [
       "['This', 'is', 'a', 'test', 'for', 'text', 'based', 'search']"
      ]
     },
     "execution_count": 5,
     "metadata": {},
     "output_type": "execute_result"
    }
   ],
   "source": [
    "re.split(r\"\\W\", \"This is a test for text-based search\")"
   ]
  },
  {
   "cell_type": "code",
   "execution_count": 6,
   "id": "affcf058-d257-4e75-8601-aecda2a685b3",
   "metadata": {
    "tags": []
   },
   "outputs": [
    {
     "data": {
      "text/plain": [
       "['This', 'is', 'a', 'test', 'for', 'text', 'based', 'search']"
      ]
     },
     "execution_count": 6,
     "metadata": {},
     "output_type": "execute_result"
    }
   ],
   "source": [
    "re.split(r\"\\W\", \"This is a test for text-based search\")"
   ]
  },
  {
   "cell_type": "code",
   "execution_count": 15,
   "id": "aa47f8fc-c1b8-4032-b717-cd411bb20e69",
   "metadata": {
    "tags": []
   },
   "outputs": [
    {
     "data": {
      "text/plain": [
       "['Paris', 'is', 'the', 'capital', 'of', 'France']"
      ]
     },
     "execution_count": 15,
     "metadata": {},
     "output_type": "execute_result"
    }
   ],
   "source": [
    "\"Paris is the capital of France\".split()"
   ]
  },
  {
   "cell_type": "code",
   "execution_count": 16,
   "id": "41df5a73-cf3a-44d4-a899-c31762521ea9",
   "metadata": {
    "tags": []
   },
   "outputs": [
    {
     "data": {
      "text/plain": [
       "['paris', 'is', 'the', 'capital', 'of', 'france']"
      ]
     },
     "execution_count": 16,
     "metadata": {},
     "output_type": "execute_result"
    }
   ],
   "source": [
    "\"Paris is the capital of France\".lower().split()"
   ]
  },
  {
   "cell_type": "code",
   "execution_count": 7,
   "id": "91e80bec-d43c-4c28-a46d-20129bf7f039",
   "metadata": {
    "tags": []
   },
   "outputs": [],
   "source": [
    "from nltk.stem.porter import PorterStemmer"
   ]
  },
  {
   "cell_type": "code",
   "execution_count": 8,
   "id": "334024bf-e351-41b9-aa6d-03fe8464c37a",
   "metadata": {
    "tags": []
   },
   "outputs": [],
   "source": [
    "stemmer = PorterStemmer()"
   ]
  },
  {
   "cell_type": "code",
   "execution_count": 9,
   "id": "9bea26a3-293b-4de1-9f09-af02ac9df1d4",
   "metadata": {
    "tags": []
   },
   "outputs": [
    {
     "data": {
      "text/plain": [
       "['develop', 'develop', 'develop']"
      ]
     },
     "execution_count": 9,
     "metadata": {},
     "output_type": "execute_result"
    }
   ],
   "source": [
    "[stemmer.stem(token) for token in [\"developed\", \"develop\", \"developing\"]]"
   ]
  },
  {
   "cell_type": "code",
   "execution_count": 10,
   "id": "88d545fe-dd56-435b-8083-e5d4c28151d2",
   "metadata": {
    "tags": []
   },
   "outputs": [],
   "source": [
    "tokens = \"This is a test for text-based search\".lower().split()"
   ]
  },
  {
   "cell_type": "code",
   "execution_count": 11,
   "id": "561311dc-9f57-4858-9fd5-f27f1aa7d790",
   "metadata": {
    "tags": []
   },
   "outputs": [
    {
     "data": {
      "text/plain": [
       "['test', 'text-based', 'search']"
      ]
     },
     "execution_count": 11,
     "metadata": {},
     "output_type": "execute_result"
    }
   ],
   "source": [
    "[t for t in tokens if t not in [\"a\", \"for\", \"is\", \"this\"]]"
   ]
  },
  {
   "cell_type": "code",
   "execution_count": 12,
   "id": "bb97dace-0aae-47ba-89eb-ede50dd1b353",
   "metadata": {
    "tags": []
   },
   "outputs": [],
   "source": [
    "tokens = \"1234 test1234 rejected\".lower().split()"
   ]
  },
  {
   "cell_type": "code",
   "execution_count": 13,
   "id": "dab34a7e-b574-4dfe-ab03-8c626547272c",
   "metadata": {
    "tags": []
   },
   "outputs": [
    {
     "data": {
      "text/plain": [
       "['rejected']"
      ]
     },
     "execution_count": 13,
     "metadata": {},
     "output_type": "execute_result"
    }
   ],
   "source": [
    "[t for t in tokens if re.match(r\"^[a-z]+$\", t)]"
   ]
  },
  {
   "cell_type": "code",
   "execution_count": 14,
   "id": "2060f204-63cf-4d36-9522-75f2eab90d14",
   "metadata": {
    "tags": []
   },
   "outputs": [
    {
     "name": "stdout",
     "output_type": "stream",
     "text": [
      "Kabyles de la Chapelle et des quais de Javel hommes des 100 pays lointains cobayes des\n",
      "colonies le 27-07-2009 Doux petits 5 musiciens soleils adolescents de la porte d’Italie Boumians\n",
      "de la porte de Saint-Ouen Apatrides d’Aubervilliers brûleurs des grandes ordures de la ville de\n",
      "Paris ébouillanteurs des bêtes trouvées mortes sur pied au beau milieu des rues Tunisiens de\n",
      "Grenelle embauchés débauchés manoeuvres désoeuvrés Polacks du Marais du Temple des\n",
      "Rosiers Cordonniers de Cordoue soutiers de Barcelone pêcheurs des Baléares ou bien du\n",
      "Finisterre rescapés de Franco et déportés de France et de Navarre pour avoir défendu en\n",
      "souvenir de la vôtre la liberté des autres Esclaves noirs de Fréjus tiraillés et parqués au bord\n",
      "d’une petite mer où peu vous vous baignez Esclaves noirs de Fréjus qui évoquez chaque soir\n",
      "dans les locaux disciplinaires avec une vieille boîte à cigares et quelques bouts de fil de fer tous\n",
      "les échos de vos villages tous les oiseaux de vos forêts et ne venez dans la capitale que pour\n",
      "fêter au pas cadencé la prise de la Bastille le quatorze juillet Enfants du Sénégal dépatriés\n",
      "expatriés et naturalisés Enfants indochinois jongleurs aux innocents couteaux qui vendiez\n",
      "autrefois aux terrasses des cafés de jolis dragons d’or faits de papier plié Enfants trop tôt\n",
      "grandis et si vite en allés qui dormez aujourd’hui de retour au pays le visage dans la terre et des\n",
      "bombes incendiaires labourant vos rizières On vous a renvoyé la monnaie de vos papiers dorés\n",
      "on vous a retourné vos petits couteaux dans le dos Étranges étrangers Vous êtes de la ville\n",
      "vous êtes de sa vie même si mal en vivez même si vous mourez.\n"
     ]
    }
   ],
   "source": [
    "with open('tp1.txt', 'r') as file:\n",
    "    contents = file.read()\n",
    "    print(contents)"
   ]
  },
  {
   "cell_type": "code",
   "execution_count": 15,
   "id": "9dd24389-03eb-4b4b-81ec-053f3f44035c",
   "metadata": {
    "tags": []
   },
   "outputs": [
    {
     "name": "stdout",
     "output_type": "stream",
     "text": [
      "['kabyles', 'de', 'la', 'chapelle', 'et', 'des', 'quais', 'de', 'javel', 'hommes', 'des', '100', 'pays', 'lointains', 'cobayes', 'des', 'colonies', 'le', '27-07-2009', 'doux', 'petits', '5', 'musiciens', 'soleils', 'adolescents', 'de', 'la', 'porte', 'd’italie', 'boumians', 'de', 'la', 'porte', 'de', 'saint-ouen', 'apatrides', 'd’aubervilliers', 'brûleurs', 'des', 'grandes', 'ordures', 'de', 'la', 'ville', 'de', 'paris', 'ébouillanteurs', 'des', 'bêtes', 'trouvées', 'mortes', 'sur', 'pied', 'au', 'beau', 'milieu', 'des', 'rues', 'tunisiens', 'de', 'grenelle', 'embauchés', 'débauchés', 'manoeuvres', 'désoeuvrés', 'polacks', 'du', 'marais', 'du', 'temple', 'des', 'rosiers', 'cordonniers', 'de', 'cordoue', 'soutiers', 'de', 'barcelone', 'pêcheurs', 'des', 'baléares', 'ou', 'bien', 'du', 'finisterre', 'rescapés', 'de', 'franco', 'et', 'déportés', 'de', 'france', 'et', 'de', 'navarre', 'pour', 'avoir', 'défendu', 'en', 'souvenir', 'de', 'la', 'vôtre', 'la', 'liberté', 'des', 'autres', 'esclaves', 'noirs', 'de', 'fréjus', 'tiraillés', 'et', 'parqués', 'au', 'bord', 'd’une', 'petite', 'mer', 'où', 'peu', 'vous', 'vous', 'baignez', 'esclaves', 'noirs', 'de', 'fréjus', 'qui', 'évoquez', 'chaque', 'soir', 'dans', 'les', 'locaux', 'disciplinaires', 'avec', 'une', 'vieille', 'boîte', 'à', 'cigares', 'et', 'quelques', 'bouts', 'de', 'fil', 'de', 'fer', 'tous', 'les', 'échos', 'de', 'vos', 'villages', 'tous', 'les', 'oiseaux', 'de', 'vos', 'forêts', 'et', 'ne', 'venez', 'dans', 'la', 'capitale', 'que', 'pour', 'fêter', 'au', 'pas', 'cadencé', 'la', 'prise', 'de', 'la', 'bastille', 'le', 'quatorze', 'juillet', 'enfants', 'du', 'sénégal', 'dépatriés', 'expatriés', 'et', 'naturalisés', 'enfants', 'indochinois', 'jongleurs', 'aux', 'innocents', 'couteaux', 'qui', 'vendiez', 'autrefois', 'aux', 'terrasses', 'des', 'cafés', 'de', 'jolis', 'dragons', 'd’or', 'faits', 'de', 'papier', 'plié', 'enfants', 'trop', 'tôt', 'grandis', 'et', 'si', 'vite', 'en', 'allés', 'qui', 'dormez', 'aujourd’hui', 'de', 'retour', 'au', 'pays', 'le', 'visage', 'dans', 'la', 'terre', 'et', 'des', 'bombes', 'incendiaires', 'labourant', 'vos', 'rizières', 'on', 'vous', 'a', 'renvoyé', 'la', 'monnaie', 'de', 'vos', 'papiers', 'dorés', 'on', 'vous', 'a', 'retourné', 'vos', 'petits', 'couteaux', 'dans', 'le', 'dos', 'étranges', 'étrangers', 'vous', 'êtes', 'de', 'la', 'ville', 'vous', 'êtes', 'de', 'sa', 'vie', 'même', 'si', 'mal', 'en', 'vivez', 'même', 'si', 'vous', 'mourez.']\n"
     ]
    }
   ],
   "source": [
    "print(contents.lower().split())"
   ]
  },
  {
   "cell_type": "code",
   "execution_count": 16,
   "id": "9ae8ea71-1743-4e44-8170-d645adde9e2b",
   "metadata": {
    "tags": []
   },
   "outputs": [
    {
     "data": {
      "text/plain": [
       "['kabyles',\n",
       " 'chapelle',\n",
       " 'des',\n",
       " 'quais',\n",
       " 'javel',\n",
       " 'hommes',\n",
       " 'des',\n",
       " '100',\n",
       " 'pays',\n",
       " 'lointains',\n",
       " 'cobayes',\n",
       " 'des',\n",
       " 'colonies',\n",
       " '27-07-2009',\n",
       " 'doux',\n",
       " 'petits',\n",
       " '5',\n",
       " 'musiciens',\n",
       " 'soleils',\n",
       " 'adolescents',\n",
       " 'porte',\n",
       " 'd’italie',\n",
       " 'boumians',\n",
       " 'porte',\n",
       " 'saint-ouen',\n",
       " 'apatrides',\n",
       " 'd’aubervilliers',\n",
       " 'brûleurs',\n",
       " 'des',\n",
       " 'grandes',\n",
       " 'ordures',\n",
       " 'ville',\n",
       " 'paris',\n",
       " 'ébouillanteurs',\n",
       " 'des',\n",
       " 'bêtes',\n",
       " 'trouvées',\n",
       " 'mortes',\n",
       " 'pied',\n",
       " 'au',\n",
       " 'beau',\n",
       " 'milieu',\n",
       " 'des',\n",
       " 'rues',\n",
       " 'tunisiens',\n",
       " 'grenelle',\n",
       " 'embauchés',\n",
       " 'débauchés',\n",
       " 'manoeuvres',\n",
       " 'désoeuvrés',\n",
       " 'polacks',\n",
       " 'du',\n",
       " 'marais',\n",
       " 'du',\n",
       " 'temple',\n",
       " 'des',\n",
       " 'rosiers',\n",
       " 'cordonniers',\n",
       " 'cordoue',\n",
       " 'soutiers',\n",
       " 'barcelone',\n",
       " 'pêcheurs',\n",
       " 'des',\n",
       " 'baléares',\n",
       " 'bien',\n",
       " 'du',\n",
       " 'finisterre',\n",
       " 'rescapés',\n",
       " 'franco',\n",
       " 'déportés',\n",
       " 'france',\n",
       " 'navarre',\n",
       " 'avoir',\n",
       " 'défendu',\n",
       " 'en',\n",
       " 'souvenir',\n",
       " 'vôtre',\n",
       " 'liberté',\n",
       " 'des',\n",
       " 'autres',\n",
       " 'esclaves',\n",
       " 'noirs',\n",
       " 'fréjus',\n",
       " 'tiraillés',\n",
       " 'parqués',\n",
       " 'au',\n",
       " 'bord',\n",
       " 'd’une',\n",
       " 'petite',\n",
       " 'mer',\n",
       " 'où',\n",
       " 'peu',\n",
       " 'vous',\n",
       " 'vous',\n",
       " 'baignez',\n",
       " 'esclaves',\n",
       " 'noirs',\n",
       " 'fréjus',\n",
       " 'qui',\n",
       " 'évoquez',\n",
       " 'chaque',\n",
       " 'soir',\n",
       " 'les',\n",
       " 'locaux',\n",
       " 'disciplinaires',\n",
       " 'une',\n",
       " 'vieille',\n",
       " 'boîte',\n",
       " 'cigares',\n",
       " 'quelques',\n",
       " 'bouts',\n",
       " 'fil',\n",
       " 'fer',\n",
       " 'tous',\n",
       " 'les',\n",
       " 'échos',\n",
       " 'vos',\n",
       " 'villages',\n",
       " 'tous',\n",
       " 'les',\n",
       " 'oiseaux',\n",
       " 'vos',\n",
       " 'forêts',\n",
       " 'ne',\n",
       " 'venez',\n",
       " 'capitale',\n",
       " 'fêter',\n",
       " 'au',\n",
       " 'cadencé',\n",
       " 'prise',\n",
       " 'bastille',\n",
       " 'quatorze',\n",
       " 'juillet',\n",
       " 'enfants',\n",
       " 'du',\n",
       " 'sénégal',\n",
       " 'dépatriés',\n",
       " 'expatriés',\n",
       " 'naturalisés',\n",
       " 'enfants',\n",
       " 'indochinois',\n",
       " 'jongleurs',\n",
       " 'aux',\n",
       " 'innocents',\n",
       " 'couteaux',\n",
       " 'qui',\n",
       " 'vendiez',\n",
       " 'autrefois',\n",
       " 'aux',\n",
       " 'terrasses',\n",
       " 'des',\n",
       " 'cafés',\n",
       " 'jolis',\n",
       " 'dragons',\n",
       " 'd’or',\n",
       " 'faits',\n",
       " 'papier',\n",
       " 'plié',\n",
       " 'enfants',\n",
       " 'trop',\n",
       " 'tôt',\n",
       " 'grandis',\n",
       " 'vite',\n",
       " 'en',\n",
       " 'allés',\n",
       " 'qui',\n",
       " 'dormez',\n",
       " 'aujourd’hui',\n",
       " 'retour',\n",
       " 'au',\n",
       " 'pays',\n",
       " 'visage',\n",
       " 'terre',\n",
       " 'des',\n",
       " 'bombes',\n",
       " 'incendiaires',\n",
       " 'labourant',\n",
       " 'vos',\n",
       " 'rizières',\n",
       " 'on',\n",
       " 'vous',\n",
       " 'a',\n",
       " 'renvoyé',\n",
       " 'monnaie',\n",
       " 'vos',\n",
       " 'papiers',\n",
       " 'dorés',\n",
       " 'on',\n",
       " 'vous',\n",
       " 'a',\n",
       " 'retourné',\n",
       " 'vos',\n",
       " 'petits',\n",
       " 'couteaux',\n",
       " 'dos',\n",
       " 'étranges',\n",
       " 'étrangers',\n",
       " 'vous',\n",
       " 'êtes',\n",
       " 'ville',\n",
       " 'vous',\n",
       " 'êtes',\n",
       " 'sa',\n",
       " 'vie',\n",
       " 'même',\n",
       " 'mal',\n",
       " 'en',\n",
       " 'vivez',\n",
       " 'même',\n",
       " 'vous',\n",
       " 'mourez.']"
      ]
     },
     "execution_count": 16,
     "metadata": {},
     "output_type": "execute_result"
    }
   ],
   "source": [
    "tokens=contents.lower().split()\n",
    "[t for t in tokens if t not in [\"un\", \"et\", \"sont\", \"comme\", \"à\", \"être\", \"mais\", \"par\", \"pour\", \"si\", \"dans\", \"dans\", \"est\", \"il\",\n",
    "\"non\", \"pas\", \"de\", \"sur\", \"ou\", \"tel\", \"que\", \"le\", \"leur\", \"alors\", \"la\", \"ces\",\n",
    "\"ils\", \"ce\", \"à\", \"était\", \"volonté\", \"avec\"]]"
   ]
  },
  {
   "cell_type": "code",
   "execution_count": 17,
   "id": "c81ef144-4b91-4922-bb1f-91a744d74770",
   "metadata": {
    "tags": []
   },
   "outputs": [
    {
     "data": {
      "text/plain": [
       "['kabyles',\n",
       " 'de',\n",
       " 'la',\n",
       " 'chapelle',\n",
       " 'et',\n",
       " 'des',\n",
       " 'quais',\n",
       " 'de',\n",
       " 'javel',\n",
       " 'hommes',\n",
       " 'des',\n",
       " 'pays',\n",
       " 'lointains',\n",
       " 'cobayes',\n",
       " 'des',\n",
       " 'colonies',\n",
       " 'le',\n",
       " 'doux',\n",
       " 'petits',\n",
       " 'musiciens',\n",
       " 'soleils',\n",
       " 'adolescents',\n",
       " 'de',\n",
       " 'la',\n",
       " 'porte',\n",
       " 'boumians',\n",
       " 'de',\n",
       " 'la',\n",
       " 'porte',\n",
       " 'de',\n",
       " 'apatrides',\n",
       " 'des',\n",
       " 'grandes',\n",
       " 'ordures',\n",
       " 'de',\n",
       " 'la',\n",
       " 'ville',\n",
       " 'de',\n",
       " 'paris',\n",
       " 'des',\n",
       " 'mortes',\n",
       " 'sur',\n",
       " 'pied',\n",
       " 'au',\n",
       " 'beau',\n",
       " 'milieu',\n",
       " 'des',\n",
       " 'rues',\n",
       " 'tunisiens',\n",
       " 'de',\n",
       " 'grenelle',\n",
       " 'manoeuvres',\n",
       " 'polacks',\n",
       " 'du',\n",
       " 'marais',\n",
       " 'du',\n",
       " 'temple',\n",
       " 'des',\n",
       " 'rosiers',\n",
       " 'cordonniers',\n",
       " 'de',\n",
       " 'cordoue',\n",
       " 'soutiers',\n",
       " 'de',\n",
       " 'barcelone',\n",
       " 'des',\n",
       " 'ou',\n",
       " 'bien',\n",
       " 'du',\n",
       " 'finisterre',\n",
       " 'de',\n",
       " 'franco',\n",
       " 'et',\n",
       " 'de',\n",
       " 'france',\n",
       " 'et',\n",
       " 'de',\n",
       " 'navarre',\n",
       " 'pour',\n",
       " 'avoir',\n",
       " 'en',\n",
       " 'souvenir',\n",
       " 'de',\n",
       " 'la',\n",
       " 'la',\n",
       " 'des',\n",
       " 'autres',\n",
       " 'esclaves',\n",
       " 'noirs',\n",
       " 'de',\n",
       " 'et',\n",
       " 'au',\n",
       " 'bord',\n",
       " 'petite',\n",
       " 'mer',\n",
       " 'peu',\n",
       " 'vous',\n",
       " 'vous',\n",
       " 'baignez',\n",
       " 'esclaves',\n",
       " 'noirs',\n",
       " 'de',\n",
       " 'qui',\n",
       " 'chaque',\n",
       " 'soir',\n",
       " 'dans',\n",
       " 'les',\n",
       " 'locaux',\n",
       " 'disciplinaires',\n",
       " 'avec',\n",
       " 'une',\n",
       " 'vieille',\n",
       " 'cigares',\n",
       " 'et',\n",
       " 'quelques',\n",
       " 'bouts',\n",
       " 'de',\n",
       " 'fil',\n",
       " 'de',\n",
       " 'fer',\n",
       " 'tous',\n",
       " 'les',\n",
       " 'de',\n",
       " 'vos',\n",
       " 'villages',\n",
       " 'tous',\n",
       " 'les',\n",
       " 'oiseaux',\n",
       " 'de',\n",
       " 'vos',\n",
       " 'et',\n",
       " 'ne',\n",
       " 'venez',\n",
       " 'dans',\n",
       " 'la',\n",
       " 'capitale',\n",
       " 'que',\n",
       " 'pour',\n",
       " 'au',\n",
       " 'pas',\n",
       " 'la',\n",
       " 'prise',\n",
       " 'de',\n",
       " 'la',\n",
       " 'bastille',\n",
       " 'le',\n",
       " 'quatorze',\n",
       " 'juillet',\n",
       " 'enfants',\n",
       " 'du',\n",
       " 'et',\n",
       " 'enfants',\n",
       " 'indochinois',\n",
       " 'jongleurs',\n",
       " 'aux',\n",
       " 'innocents',\n",
       " 'couteaux',\n",
       " 'qui',\n",
       " 'vendiez',\n",
       " 'autrefois',\n",
       " 'aux',\n",
       " 'terrasses',\n",
       " 'des',\n",
       " 'de',\n",
       " 'jolis',\n",
       " 'dragons',\n",
       " 'faits',\n",
       " 'de',\n",
       " 'papier',\n",
       " 'enfants',\n",
       " 'trop',\n",
       " 'grandis',\n",
       " 'et',\n",
       " 'si',\n",
       " 'vite',\n",
       " 'en',\n",
       " 'qui',\n",
       " 'dormez',\n",
       " 'de',\n",
       " 'retour',\n",
       " 'au',\n",
       " 'pays',\n",
       " 'le',\n",
       " 'visage',\n",
       " 'dans',\n",
       " 'la',\n",
       " 'terre',\n",
       " 'et',\n",
       " 'des',\n",
       " 'bombes',\n",
       " 'incendiaires',\n",
       " 'labourant',\n",
       " 'vos',\n",
       " 'on',\n",
       " 'vous',\n",
       " 'a',\n",
       " 'la',\n",
       " 'monnaie',\n",
       " 'de',\n",
       " 'vos',\n",
       " 'papiers',\n",
       " 'on',\n",
       " 'vous',\n",
       " 'a',\n",
       " 'vos',\n",
       " 'petits',\n",
       " 'couteaux',\n",
       " 'dans',\n",
       " 'le',\n",
       " 'dos',\n",
       " 'vous',\n",
       " 'de',\n",
       " 'la',\n",
       " 'ville',\n",
       " 'vous',\n",
       " 'de',\n",
       " 'sa',\n",
       " 'vie',\n",
       " 'si',\n",
       " 'mal',\n",
       " 'en',\n",
       " 'vivez',\n",
       " 'si',\n",
       " 'vous']"
      ]
     },
     "execution_count": 17,
     "metadata": {},
     "output_type": "execute_result"
    }
   ],
   "source": [
    "import re\n",
    "[t for t in tokens if re.match(r\"^[a-z]+$\", t)]"
   ]
  },
  {
   "cell_type": "code",
   "execution_count": 28,
   "id": "9cedb3e2-90c6-46af-8649-ed79a338bd91",
   "metadata": {
    "tags": []
   },
   "outputs": [],
   "source": [
    "from nltk.stem.porter import PorterStemmer"
   ]
  },
  {
   "cell_type": "code",
   "execution_count": 29,
   "id": "7a72f288-32a6-4451-a298-ec25bf66fd86",
   "metadata": {
    "tags": []
   },
   "outputs": [],
   "source": [
    "stemmer1 = PorterStemmer()"
   ]
  },
  {
   "cell_type": "code",
   "execution_count": 30,
   "id": "70be36bc-5e20-468b-845d-48b7438dcb13",
   "metadata": {
    "tags": []
   },
   "outputs": [
    {
     "data": {
      "text/plain": [
       "['kabyl',\n",
       " 'chapel',\n",
       " 'quai',\n",
       " 'javel',\n",
       " 'homm',\n",
       " 'pay',\n",
       " 'lointain',\n",
       " 'cobay',\n",
       " 'coloni',\n",
       " 'doux',\n",
       " 'petit',\n",
       " 'musicien',\n",
       " 'soleil',\n",
       " 'adolesc',\n",
       " 'port',\n",
       " 'itali',\n",
       " 'boumian',\n",
       " 'saint-ouen',\n",
       " 'apatrid',\n",
       " 'aubervilli',\n",
       " 'brûleur',\n",
       " 'ordur',\n",
       " 'vill',\n",
       " 'pari',\n",
       " 'ébouillanteur',\n",
       " 'bête',\n",
       " 'trouvé',\n",
       " 'mort',\n",
       " 'pie',\n",
       " 'rue']"
      ]
     },
     "execution_count": 30,
     "metadata": {},
     "output_type": "execute_result"
    }
   ],
   "source": [
    "[stemmer1.stem(token) for token in [\"Kabyles\", \"Chapelle\", \"quais\", \"Javel\",\n",
    "\"hommes\", \"pays\", \"lointains\",\n",
    "\"cobayes\", \"colonies\",\n",
    "\"Doux\", \"petits\", \"musiciens\",\n",
    "\"soleils\", \"adolescents\", \"porte\",\n",
    "\"Italie\",\n",
    "\"Boumians\", \"Saint-Ouen\",\n",
    "\"Apatrides\", \"Aubervilliers\",\n",
    "\"brûleurs\", \"ordures\", \"ville\",\n",
    "\"Paris\",\n",
    "\"ébouillanteurs\", \"bêtes\",\n",
    "\"trouvées\", \"mortes\", \"pied\",\n",
    "\"rues\"\n",
    "]]"
   ]
  },
  {
   "cell_type": "code",
   "execution_count": null,
   "id": "eaca893e-85cc-41e3-bfbd-7a7042d4f125",
   "metadata": {},
   "outputs": [],
   "source": []
  }
 ],
 "metadata": {
  "kernelspec": {
   "display_name": "Python 3 (ipykernel)",
   "language": "python",
   "name": "python3"
  },
  "language_info": {
   "codemirror_mode": {
    "name": "ipython",
    "version": 3
   },
   "file_extension": ".py",
   "mimetype": "text/x-python",
   "name": "python",
   "nbconvert_exporter": "python",
   "pygments_lexer": "ipython3",
   "version": "3.9.12"
  }
 },
 "nbformat": 4,
 "nbformat_minor": 5
}
