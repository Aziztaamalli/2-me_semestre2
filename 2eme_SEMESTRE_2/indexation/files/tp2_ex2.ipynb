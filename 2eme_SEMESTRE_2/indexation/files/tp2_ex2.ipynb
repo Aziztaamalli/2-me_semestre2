{
 "cells": [
  {
   "cell_type": "code",
   "execution_count": null,
   "metadata": {},
   "outputs": [],
   "source": [
    "with open('tp1.txt', 'r') as file:\n",
    "    contents = file.read()\n",
    "    print(contents)"
   ]
  },
  {
   "cell_type": "code",
   "execution_count": null,
   "metadata": {},
   "outputs": [],
   "source": [
    "print(contents.lower().split())"
   ]
  },
  {
   "cell_type": "code",
   "execution_count": null,
   "metadata": {},
   "outputs": [],
   "source": [
    "tokens=contents.lower().split()\n",
    "[t for t in tokens if t not in [\"un\", \"et\", \"sont\", \"comme\", \"à\", \"être\", \"mais\", \"par\", \"pour\", \"si\", \"dans\", \"dans\", \"est\", \"il\",\n",
    "\"non\", \"pas\", \"de\", \"sur\", \"ou\", \"tel\", \"que\", \"le\", \"leur\", \"alors\", \"la\", \"ces\",\n",
    "\"ils\", \"ce\", \"à\", \"était\", \"volonté\", \"avec\"]]"
   ]
  },
  {
   "cell_type": "code",
   "execution_count": null,
   "metadata": {},
   "outputs": [],
   "source": [
    "import re\n",
    "[t for t in tokens if re.match(r\"^[a-z]+$\", t)]"
   ]
  },
  {
   "cell_type": "code",
   "execution_count": null,
   "metadata": {},
   "outputs": [],
   "source": [
    "from nltk.stem.porter import PorterStemmer"
   ]
  },
  {
   "cell_type": "code",
   "execution_count": null,
   "metadata": {},
   "outputs": [],
   "source": [
    "stemmer1 = PorterStemmer()"
   ]
  },
  {
   "cell_type": "code",
   "execution_count": null,
   "metadata": {},
   "outputs": [],
   "source": [
    "[stemmer1.stem(token) for token in [\"Kabyles\", \"Chapelle\", \"quais\", \"Javel\",\n",
    "\"hommes\", \"pays\", \"lointains\",\n",
    "\"cobayes\", \"colonies\",\n",
    "\"Doux\", \"petits\", \"musiciens\",\n",
    "\"soleils\", \"adolescents\", \"porte\",\n",
    "\"Italie\",\n",
    "\"Boumians\", \"Saint-Ouen\",\n",
    "\"Apatrides\", \"Aubervilliers\",\n",
    "\"brûleurs\", \"ordures\", \"ville\",\n",
    "\"Paris\",\n",
    "\"ébouillanteurs\", \"bêtes\",\n",
    "\"trouvées\", \"mortes\", \"pied\",\n",
    "\"rues\"\n",
    "]]"
   ]
  },
  {
   "cell_type": "code",
   "execution_count": null,
   "metadata": {},
   "outputs": [],
   "source": [
    "#output : \n",
    "# kabyl appl chapel quai javel homm 100 pays lointin cobai colon le 27 07 2009\n",
    "# doux peti musicor soleil adoles advent porte d'itali boumi porte saint-ouen \n",
    "# apatr aubervillier brul grande ordur paris ebul bête find mor sur pied tunis grenell embauch \n",
    "# débauch manoeu desoeuvr polack marais temple rosi cordon souti pêche baléar finister rescap \n",
    "# Franco déport france navar defen liberté autre esclav noir fréjus tiraqu parqu petit mer ou \n",
    "# peu baigné evoqu locaux disciplin local boîte cigar fil ferd ech echo ois forêt vien capit \n",
    "# pas cadenc fund quatorzi jull bastill pris venez fêt capital pas cadencé"
   ]
  },
  {
   "cell_type": "code",
   "execution_count": null,
   "metadata": {},
   "outputs": [],
   "source": []
  }
 ],
 "metadata": {
  "language_info": {
   "name": "python"
  }
 },
 "nbformat": 4,
 "nbformat_minor": 2
}
